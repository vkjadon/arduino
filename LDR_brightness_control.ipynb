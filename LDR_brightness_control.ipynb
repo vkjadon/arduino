{
  "nbformat": 4,
  "nbformat_minor": 0,
  "metadata": {
    "colab": {
      "provenance": [],
      "authorship_tag": "ABX9TyM6oshzX2gyUI6ybFi7UDCF",
      "include_colab_link": true
    },
    "kernelspec": {
      "name": "python3",
      "display_name": "Python 3"
    },
    "language_info": {
      "name": "python"
    }
  },
  "cells": [
    {
      "cell_type": "markdown",
      "metadata": {
        "id": "view-in-github",
        "colab_type": "text"
      },
      "source": [
        "<a href=\"https://colab.research.google.com/github/vkjadon/arduino/blob/master/LDR_brightness_control.ipynb\" target=\"_parent\"><img src=\"https://colab.research.google.com/assets/colab-badge.svg\" alt=\"Open In Colab\"/></a>"
      ]
    },
    {
      "cell_type": "code",
      "execution_count": null,
      "metadata": {
        "id": "gtPvwV0x0-v1"
      },
      "outputs": [],
      "source": []
    },
    {
      "cell_type": "markdown",
      "source": [
        "# Controlling Brightness Using Light Dependent Resistor (LDR)\n",
        "\n",
        "The Light Dependent Resister (LDR) is used to detect the intensity of light. This is because its resistance decreases with an increase in the light falling on it. So if we can measure the resistance of the LDR, we can estimate the intensity of the light. The is resitance is measured by measuring the potential drop across the LDR.   \n",
        "We will use potential divider circuit to measure the drop across the LDR. The LDR gives out an analog voltage, it is connected to the analog pin on the Arduino. The Arduino, with its built-in ADC (Analog to Digital Converter), converts the analog voltage (from 0-5V) into a digital value in the range of (0-1023) because the in-built Arduino ADC is 10 bits ($2^{10}=1024$). When there is sufficient light in its environment or on its surface, the converted digital values read from the LDR through the Arduino will be in the range of 900-1023.\n",
        "\n",
        "![image](images/ldr_circuit_1.jpg)\n",
        "\n",
        "The circuit diagram is too straight forward and uses only one resister and a LDR. The value of the resistance should be equal to the value of the resistance of LDR in normal light condition of the application. Please refer to [LDR](light_dependent_resistor.md)\n",
        "Let us We can use multimeter\n"
      ],
      "metadata": {
        "id": "GUeZ1eA01DYE"
      }
    }
  ]
}
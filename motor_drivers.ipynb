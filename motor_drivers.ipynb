{
  "nbformat": 4,
  "nbformat_minor": 0,
  "metadata": {
    "colab": {
      "provenance": [],
      "authorship_tag": "ABX9TyPHEqIrvG1CAq0SKXLgCrol",
      "include_colab_link": true
    },
    "kernelspec": {
      "name": "python3",
      "display_name": "Python 3"
    },
    "language_info": {
      "name": "python"
    }
  },
  "cells": [
    {
      "cell_type": "markdown",
      "metadata": {
        "id": "view-in-github",
        "colab_type": "text"
      },
      "source": [
        "<a href=\"https://colab.research.google.com/github/vkjadon/arduino/blob/master/motor_drivers.ipynb\" target=\"_parent\"><img src=\"https://colab.research.google.com/assets/colab-badge.svg\" alt=\"Open In Colab\"/></a>"
      ]
    },
    {
      "cell_type": "markdown",
      "source": [
        "#DC Motors\n",
        "Controlling the speed and direction of DC motors is a very common application.\n",
        "Microcontrollers like Arduino cannot provide enough current for the motor when we directly connect a DC motor to the microcontroller. And, it may damage our microcontroller.\n",
        "Generally, DC motors require more current than any microcontroller  can directly provide. Before diving into the requirement of the motor driver, let us first look into the inportant specifications of the motors which plays important role in selecting the motor drivers."
      ],
      "metadata": {
        "id": "WSSfm-8XN5xi"
      }
    },
    {
      "cell_type": "markdown",
      "source": [
        "##DC Motor Specifications\n",
        "\n",
        "The mechanical specifications include the motor size, rpm, and torque whereas the electrical specifications are what we focus upon are working voltage and current and the stall current.\n",
        "\n",
        "**Working Voltage**\n",
        "\n",
        "It is the voltage at which all other specifications are measured and motor is recommended to operate.\n",
        "\n",
        "**Average Current**\n",
        "\n",
        "The average current is the amount of current the motor will consume when running under a normal load. Ideally, we should select a motor driver with a higher current rating than the motor average current.\n",
        "\n",
        "**Stall Current**\n",
        "\n",
        "The stall current is the amount of current the motor will draw if its shaft is seized. When selecting a motor driver, this will correspond to the peak current. Ideally, the driver should be able to handle this current for at least a minute."
      ],
      "metadata": {
        "id": "yiWYDZ_jO04T"
      }
    },
    {
      "cell_type": "markdown",
      "source": [
        "##DC Motor Driver Basics and H-Bridge\n",
        "\n",
        "Let us take one of the simplest motor to understand the use of motor driver.\n",
        "Apply 5V to the terminals of the motor and we see that the shaft rotates in One Direction and reversing the polarity of the voltage applied to the motor will cause the shaft to rotate in the opposite direction.\n",
        "\n",
        "<img src=\"https://github.com/vkjadon/arduino/blob/master/images/motor_direct.png?raw=1\" align=\"center\" width=\"400px;\">\n",
        "\n",
        "Reversing a DC motor is simply a matter of reversing the polarity of the voltage applied to it. The most common method of doing this is to use a design called an “H-Bridge”.\n",
        "\n",
        "The operation of an H-Bridge can be illustrated using four switches arranged in this configuration resembling the shape \"H\". When all the switches are open, then the motor will receive no voltage and will remain stationary.\n",
        "\n",
        "If we close two of the switches as shown, then DC current is allowed to flow through the motor. And, the motor rotates clockwise. You may need to adjust your connections for clockwise rotation.\n",
        "\n",
        "<img src=\"https://github.com/vkjadon/arduino/blob/master/images/h-bridge.png?raw=1\" align=\"center\" width=\"600px;\">\n",
        "\n",
        "\n",
        "If we now open these switches and close the other two, the motor will receive DC voltage in the opposite polarity, causing it to spin in opposirte direction that is counterclockwise.\n",
        "\n",
        "In the real world, we use bipolar transistors for this switching of the H-bridge. Bipolar transistors have a voltage drop between the emitter and collector when they are switched on. This drop is usually 0.7 volts for a bipolar power transistor.  Since we are using TWO switches simultaneously, the total drop is about 1.4 volts.\n",
        "\n",
        "This means that if you apply approximately 5.2 volts to the H-Bridge, the motor will actually receive aprroximately 3.8 volts. The energy lost is converted into heat and that is why bipolar we require heatsinks.\n",
        "\n",
        "Newer designs use MOSFETs for improved performance. The voltage drop across a MOSFET is generally of the order of 0.1 volts or less, so this is a much more efficient design. In addition, MOSFET designs can often be made smaller, and many donot require a heatsink."
      ],
      "metadata": {
        "id": "yRvcyq6xcBil"
      }
    },
    {
      "cell_type": "markdown",
      "source": [
        "##Selection of Motor Driver\n",
        "\n",
        "There are many specifications involved when choosing a DC motor but when choosing a DC motor driver to match your motor there are three motor specs we need to look at.\n",
        "\n",
        "- The first is the motor voltage. The driver should be able to comfortably handle this voltage.\n",
        "- The next is the average current and the driver needs to be specified to handle this average current preferably with a little bit of margin.\n",
        "- The stall current. The driver needs to be able to have a peak current capability to handle this situation."
      ],
      "metadata": {
        "id": "5ZuhVbHMdrrh"
      }
    },
    {
      "cell_type": "markdown",
      "source": [
        "##L298N Dual H-Bridge\n",
        "\n",
        "The L298N is a versatile motor driver chip, capable of driving two DC motors in both directions.\n",
        "\n",
        "<img src=\"https://github.com/vkjadon/arduino/blob/master/images/L298N.png?raw=1\" align=\"center\" width=\"800px;\">\n",
        "\n",
        "\n",
        "L298N can handle a motor voltage from 5 to 35 volts and can supply a continuous current of 2 Amperes and the peak current of 3.5 Amperes. The L298N accepts a logic voltage supply of 5 volts.\n",
        "\n",
        "There are three screw connectors on the board. One with three\n",
        "terminals on it for external supply, ground and the 5 volt logic input. There's a strap on the board and when we connect the strap in then the logic voltage is provided by the motor supply. In any case the output of the board will approximately be 1.4V less than the supply voltage as there is a drop of about 0.7 V across the chip for each motor.\n",
        "\n",
        "The other two terminals are for motor A and motor B and we have to adjust these connections to get the desired direction for initial setup.\n",
        "\n",
        "The connector at the front has two straps on enable A and enable B. These straps keep pins high so that the motors are always enabled and if you only want to use this to control motor Direction you can eliminate the connection to ENA and ENB and just use the straps. If you want to control the motor speed however pulse width modulation is applied to the ENA pins.\n",
        "\n",
        "IN1 and IN2 control motor A and IN3 and IN4 control motor B. We can use logic table for the signals.\n",
        "\n",
        "<img src=\"https://github.com/vkjadon/arduino/blob/master/images/L298N_connections\n",
        ".png?raw=1\" align=\"center\" width=\"800px;\">\n"
      ],
      "metadata": {
        "id": "fB-9D4PnvDgQ"
      }
    },
    {
      "cell_type": "markdown",
      "source": [
        "##TB6612FNG Dual H-Bridge\n",
        "\n",
        "TB6612FNG is a very popular dual h-bridge motor controller that is a replacement for the L298n in many applications. It doesn't have quite the same motor voltage range as the l298n supporting only 4.5 to 13.5 volts. Its continuous current is also less than the l298n 1.2 amperes but it has a peak current of 3.2 amperes which is close to the L298n and these specifications allow it to control a lot of those hobbyist Motors that we commonly use in L298n4.\n",
        "\n",
        "The TB6612FNG key accepts a logic voltage of 2.7 to 5.5 volts it has a VCC input that you need to attach your logic voltage to. Now here are the pin outs of the TB6612FNG. It's a very simple module to work with in its breadboard friendly.\n",
        "\n",
        "You can see that one of the pins on here is labeled STDBY this is the standby pin and it needs to be pulled high in order for the motor driver to be enabled. You can pull this up to the logic voltage or you can connect it to an i o pin and control it with your microcontroller.\n",
        "\n",
        "You can see from the truth table here that the logic for the tb6612fng is identical to that of the l298n the pwm pins on the tb6612fng have the same purpose as the enable pins did on the l298n.\n",
        "\n",
        "Now from this hookup diagram with an Arduino Uno you can see that I've used the same connections that I did with the l298n. Once again you can use several different connection schemes with this motor driver. The key requirements is that the pwm A and pwmb pins need to be connected to i o ports that are pwm capable. Also, note that the standby pin has been pulled up to 5 volts in order to enable the motor driver.\n",
        "\n",
        "Now here are a couple of TB6612FNG motor drivers and these devices are\n",
        "often used in circuits where you would use an L298N because of the improved\n",
        "performance. Another reason they're used is because of their difference in size and let me show you that here is an l298n module and as you can see I could just about fit four of these little modules into the space of this module also there is no big heatsink on this in fact the only reason this is so tall right now is because I've soldered leads onto it."
      ],
      "metadata": {
        "id": "Q1u-swlCkoQJ"
      }
    },
    {
      "cell_type": "markdown",
      "source": [
        "##DRV8833 Dual H-Bridge\n",
        "\n",
        "DRV8833 is a dual H-bridge motor driver IC that can be used for bidirectional control of two brushed DC motors at 2.7 V to 10.8 V. It can supply up to about 1.2 A per channel continuously and can tolerate peak currents up to 2 A per channel for a few seconds, making it an ideal driver for small motors that run on relatively low voltages. The board ships populated with SMD components, including the DRV8833, and adds an FET for reverse battery protection.\n",
        "\n",
        "The DRV8833 has a higher peak current rating (2 A per channel vs 1.5 A), optional built-in current-limiting, and no need for externally supplied logic voltage."
      ],
      "metadata": {
        "id": "9YYVaFDQ2_wx"
      }
    },
    {
      "cell_type": "markdown",
      "source": [
        "##DRV8871 Single H-Bridge\n",
        "\n",
        "DRV8871 is a single Channel h-bridge module with very impressive specifications for its size it can handle a motor voltage from 6.5 to 45 volts it can supply a continuous current of 2 amperes and a peak current\n",
        "of 3.6 ampere. So, it's on par with the l298n in this respect. The device can\n",
        "accept the logic voltage of 3.3 to 5.5 volts and you don't need to supply this\n",
        "device with a logic voltage Supply as it derives all of its Supply voltage from the motor voltage.\n",
        "\n",
        "Now here's the pin out of the drv8871 module and as you can see it's\n",
        "very simple in order to spin the motor forward you need to apply a pulse width modulated signal to in1 while keeping in2 low if you keep in one low and apply a pwm signal to in2 you can spin the motor in Reverse note that there are two connections for the motor V plus these are just internally connected together.\n",
        "\n",
        "Here is the hookup of the drv8871 to an Arduino Uno note that the hookup is very simple as it only requires two inputs plus a ground the two inputs can be connected to any pwm capable pins I show them connected to arduino's pins 9 and 10 in this diagram."
      ],
      "metadata": {
        "id": "jWgP9Z7tkisA"
      }
    },
    {
      "cell_type": "markdown",
      "source": [
        "##MX1508 Dual H-Bridge\n",
        "\n",
        "The mx1508 is a dual h-bridge motor controller that is often advertised as a\n",
        "replacement for the tb6612fng however it is not actually\n",
        "pinned for pin compatible with this device although it has similar specifications it can handle a motor voltage of 2 to 10 volts it can supply a continuous current of one and a half amperes and a peak current of 2.5 amperes\n",
        "this device accepts a wide range of logic voltages from 1.8 to 7 volts\n",
        "\n",
        "\n",
        "You only need to supply the motor voltage and it internally supplies its own Logic power supply now here are the pin outs for the mx1508 Dual h-bridge controller note that this controller is not compatible with throttle to spread boards or perf boards as the pins aren't lined on a 0.1 inch grid there is only one power supply on the device the motor supply this is used to derive the Logic Supply.\n",
        "\n",
        "You can see how the device operates from the truth table. This device works by accepting a pulse width modulation signal on input number in1 or in3 and a\n",
        "low signal on in2 or in4 in order to spin the motor forward to spin the motor\n",
        "in Reverse you hold in1 or in3 low and apply a pwm signal to in2 or in4\n",
        "it also has a standby and a break mode now here's the connection of the mx1508\n",
        "Dual 8 bridge to an Arduino Uno you can use different pins if you wish but all\n",
        "of the i o pins need to be pwm compatible if you've got a couple of small DC motors and you're looking for an inexpensive way to power them then the\n",
        "MX-1508 is an ideal choice about the only negative thing I can say about this\n",
        "module is the spacing on the pins makes it not friendly for subtless breadboards\n",
        "or perf boards in fact these two pins which do the power aren't even 0.1 of an\n",
        "inch apart so it's a little bit difficult to solder pins onto it of course you could always disconnect wires\n",
        "directly to the board as well but other than the difficulty in doing some soldering and working on a breadboard\n",
        "this is a great little module and it's very inexpensive\n",
        "now if you look at the input requirements for the mx1508 you'll find that they are basically identical to the\n",
        "ones for the drv8871 the only difference being of course that the mx1508 has two motor\n",
        "driver channels whereas the drv8871 only had one so we could use the code from\n",
        "the last sketch and just double it up for a second motor another thing we could do is go searching for a library\n",
        "and there aren't very many libraries for this motor driver but there is one over here that I found on GitHub and it does\n",
        "have some documentation to it that doesn't have that many functions in it\n",
        "but it has basically what you would need to drive the motor so this is an alternative method of driving it and we\n",
        "can get that Library directly from the library manager in our Arduino IDE.\n",
        "\n"
      ],
      "metadata": {
        "id": "J3jlmRkLkfVn"
      }
    }
  ]
}
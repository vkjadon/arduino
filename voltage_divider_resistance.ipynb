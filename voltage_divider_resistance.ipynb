{
  "nbformat": 4,
  "nbformat_minor": 0,
  "metadata": {
    "colab": {
      "provenance": [],
      "authorship_tag": "ABX9TyOuciOqUAZyPvr93KTYQcXb",
      "include_colab_link": true
    },
    "kernelspec": {
      "name": "python3",
      "display_name": "Python 3"
    },
    "language_info": {
      "name": "python"
    }
  },
  "cells": [
    {
      "cell_type": "markdown",
      "metadata": {
        "id": "view-in-github",
        "colab_type": "text"
      },
      "source": [
        "<a href=\"https://colab.research.google.com/github/vkjadon/arduino/blob/master/voltage_divider_resistance.ipynb\" target=\"_parent\"><img src=\"https://colab.research.google.com/assets/colab-badge.svg\" alt=\"Open In Colab\"/></a>"
      ]
    },
    {
      "cell_type": "code",
      "execution_count": null,
      "metadata": {
        "id": "OunSJoNm1e76"
      },
      "outputs": [],
      "source": []
    },
    {
      "cell_type": "markdown",
      "source": [
        "# Choosing a Voltage Divider Resistor for a Light Dependent Resistor\n",
        "\n",
        "A potential divider circuit, also known as a voltage divider circuit, is an electronic circuit consisting of two or more resistors connected in series, used to divide a voltage into smaller values. The circuit is designed such that the output voltage across one of the resistors is proportional to the input voltage, according to the ratio of the resistance values.\n",
        "\n",
        "The most common application of a potential divider circuit is to provide a variable voltage output that is proportional to a variable input voltage, for example, in volume controls, dimmer switches, and temperature sensors. By adjusting the resistance values, the output voltage can be made to vary over a specific range, depending on the input voltage.\n",
        "\n",
        "Potential divider circuits are also used in electronic circuits to provide biasing voltages for transistors, and as feedback networks in operational amplifiers, which are used in many electronic devices such as audio amplifiers, filters, and oscillators.\n",
        "\n",
        "Overall, the potential divider circuit is a fundamental and versatile building block in electronic circuits, with many applications in various fields, from consumer electronics to industrial automation.\n",
        "\n"
      ],
      "metadata": {
        "id": "hykGs5tI1l8q"
      }
    },
    {
      "cell_type": "markdown",
      "source": [
        "Potential divider circuits are frequently used in conjunction with variable resistors such as LDRs (Light-Dependent Resistors) and thermistors, which are temperature-sensitive resistors.\n",
        "\n",
        "In the case of an LDR, the resistance varies with the intensity of light that falls on it. By connecting an LDR in series with a fixed resistor, the potential divider circuit can be used to vary the voltage supplied to a circuit or component depending on the amount of light. This can be useful in applications such as automatic streetlights, camera exposure controls, and solar panels.\n",
        "\n",
        "Similarly, a thermistor's resistance varies with temperature. By connecting a thermistor in series with a fixed resistor, the potential divider circuit can be used to vary the voltage supplied to a circuit or component depending on the temperature. This can be useful in applications such as temperature sensors, thermostats, and climate control systems.\n",
        "\n",
        "In both cases, the potential divider circuit provides a variable output voltage that is proportional to the input, allowing for precise control and measurement of the variable resistance."
      ],
      "metadata": {
        "id": "c5hetPwU64OX"
      }
    },
    {
      "cell_type": "markdown",
      "source": [
        "Variable resistors, also known as potentiometers or rheostats, have a wide range of applications in electronic circuits where it is necessary to adjust the resistance value. Here are some common applications of variable resistors:\n",
        "\n",
        "Volume and tone controls in audio equipment: Potentiometers are used to adjust the volume and tone of audio signals in amplifiers, mixers, and other audio equipment.\n",
        "\n",
        "Lighting controls: Variable resistors such as potentiometers or light dimmer switches are used to adjust the brightness of lighting fixtures in homes, offices, and other environments.\n",
        "\n",
        "Temperature sensors and thermostats: Thermistors, which are temperature-sensitive resistors, are used in conjunction with potentiometers to create temperature sensors and thermostats for climate control systems.\n",
        "\n",
        "Fan speed controls: Potentiometers are used to control the speed of fans in cooling systems, such as in computer CPU fans or in air conditioning units.\n",
        "\n",
        "LCD contrast controls: In some LCD displays, a potentiometer is used to adjust the contrast of the display.\n",
        "\n",
        "Transistor biasing: Potentiometers are used in electronic circuits to provide adjustable biasing voltages for transistors, allowing for precise control of transistor behavior.\n",
        "\n",
        "Calibration controls: Variable resistors are used in measurement and calibration circuits to adjust the sensitivity and accuracy of the circuit.\n",
        "\n",
        "Overall, variable resistors are an important component in many electronic circuits where it is necessary to adjust resistance values, allowing for precise control and measurement of electrical signals and components."
      ],
      "metadata": {
        "id": "R2VNAavK69FS"
      }
    },
    {
      "cell_type": "markdown",
      "source": [
        "Yes, a potentiometer is a type of variable resistor that uses a potential divider circuit. It consists of a resistive element with a sliding contact, or wiper, that can be moved along the resistive element to vary the resistance value.\n",
        "\n",
        "The resistive element of a potentiometer is typically a long, thin strip of resistive material, such as carbon or cermet, with a fixed resistance value. The wiper is connected to a movable contact that slides along the resistive strip, allowing the user to adjust the resistance value by changing the position of the wiper.\n",
        "\n",
        "When used as a voltage divider, the potentiometer's resistive element is connected in series with a fixed resistor and a voltage source. By adjusting the position of the wiper, the resistance value of the potentiometer can be changed, and the output voltage from the wiper can be varied proportionally to the input voltage, according to the ratio of the resistances.\n",
        "\n",
        "The potentiometer is widely used in electronic circuits, especially in applications where it is necessary to provide a variable voltage or current, such as volume and tone controls in audio equipment, and variable biasing voltages in transistor circuits."
      ],
      "metadata": {
        "id": "OsYWfMc27BRp"
      }
    },
    {
      "cell_type": "markdown",
      "source": [
        "Imagine that you are planning to use a Light Dependent Resistor (LDR) for your new IoT prototype in order to detect whether or not a lamp is turned on in a (otherwise dark) room. A common way to solve this problem is the usage of a voltage divider circuit in the following form:\n",
        "\n",
        "In the above diagram, the LDR is denoted as R∗\n",
        " and R\n",
        " is another resistance required to divide the compliance voltage U0\n",
        ". Dependent on the light that falls onto the LDR, the resistance of R∗\n",
        " changes, as well as the voltage U\n",
        ". The voltage U\n",
        " can be converted into a discrete value using a Analog-to-Digital-Converter (ADC) and the retrieved value can then be evaluated in a micro-controller (μC) program in order to determine the current lighting conditions in the room. In the above diagram, U\n",
        " would be large (close to U0\n",
        "), if the light is very bright. If there is no light falling onto the LDR (in a dark room) the voltage U\n",
        " would tend towards small values. In case you want to achieve the exact opposite behaviour (small value of U\n",
        " for bright light), then you can simply swap the resistor R\n",
        " with the LDR. This is illustrated in the figure below:\n"
      ],
      "metadata": {
        "id": "ilJyLtWl624v"
      }
    },
    {
      "cell_type": "markdown",
      "source": [
        "However, there is one major problem when using a voltage divider: Typically, one would like U\n",
        " to cover a wide range of values, ideally between 0V and U0\n",
        " (U∈[0V,U0]\n",
        "), independently of the range of R∗\n",
        ". This is for example important when ADCs are used, since an ADC only has a limited resolution. If U\n",
        " only changes in a small range for different lighting conditions then we do not have a sufficient signal-to-noise-ratio and it will become very difficult to distinguish bright from dark. Let us assume for example, that in our configuration (first diagram, with U0\n",
        " = 5V) the voltage U\n",
        " varies between 3.5V (very dark) and 4.5V (very bright). If we are now using a 8-Bit ADC (assuming that the reference voltage of the ADC is also U0\n",
        "), we have a voltage resolution of 5V/256\n",
        " which is approx. 0.02V\n",
        ". But since the input voltage only moves around in the interval [3.5V,4.5V]\n",
        ", the ADC will only generate an interval of about 1V/0.02V=50\n",
        " distinguishable values, although 256 would be theoretically possible. Taking slightly changing lighting conditions and other noise sources into account, this interval containing 50 discrete values is rather small and will most likely lead to false assertions about the state of the lamp (on/off) in the room. Even if we would use high resolutional ADCs in this configuration we will run into problems if we have a significant amount of noise in U\n",
        ". Hence, we should ensure that the interval of values that U\n",
        " covers is as large as possible in order to maximize the signal-to-noise ratio.\n",
        " The good news is: We can actually maximize the range of U\n",
        " by selecting R\n",
        " appropriately, if we know our extreme values (e.g., for dark and bright) of R∗\n",
        ". The bad news is: If the ratio between these extreme values – which are given by the physical constraints of the LDR (or some other component) and its environment and which cannot be chosen by us – is too small, then we again run into the problem that U\n",
        " will only cover a small interval. For this reason you should make sure that the varying resistor (LDR, force sensitive resistor, etc.) that you use has a high ratio between the extreme values for those conditions which you want to distinguish."
      ],
      "metadata": {
        "id": "_1KKsx7S12gI"
      }
    },
    {
      "cell_type": "markdown",
      "source": [
        "Step-by-step guide\n",
        "Based on the previous remarks, you should follow these steps for the setup of a suitable voltage divider:\n",
        "Select a varying resistance (e.g. LDR) suitable for your task\n",
        "Choose either of above circuit diagrams (whichever suits your needs)\n",
        "Measure the minimum and maximum values for R^* for the extreme conditions of your environment\n",
        "Compute the ratio R∗max/R∗min\n",
        " for the extreme values of R∗\n",
        ". If the ratio is too small, then return to 1. and find another component. If you are not sure if your ratio is fine, you can also continue with the following steps and conduct some experiments afterwards.\n",
        "Choose R=R∗min⋅R∗max\n",
        ". This guarantees that you cover the largest interval for U\n",
        " (if you are interested why, you can continue reading the following section).\n",
        "Build your circuit and test your setup to make sure that it is sufficiently robust. If you encounter problems, you either have to start with 1. again or you need to experiment with some more advanced algorithmic approaches (out of the scope of this article)."
      ],
      "metadata": {
        "id": "XuWqSyVd17Np"
      }
    },
    {
      "cell_type": "markdown",
      "source": [],
      "metadata": {
        "id": "QPV7BW-T4UmH"
      }
    }
  ]
}
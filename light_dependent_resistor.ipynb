{
  "nbformat": 4,
  "nbformat_minor": 0,
  "metadata": {
    "colab": {
      "provenance": [],
      "authorship_tag": "ABX9TyOBev5m3B0/f8XZAfC+yFK+",
      "include_colab_link": true
    },
    "kernelspec": {
      "name": "python3",
      "display_name": "Python 3"
    },
    "language_info": {
      "name": "python"
    }
  },
  "cells": [
    {
      "cell_type": "markdown",
      "metadata": {
        "id": "view-in-github",
        "colab_type": "text"
      },
      "source": [
        "<a href=\"https://colab.research.google.com/github/vkjadon/arduino/blob/master/light_dependent_resistor.ipynb\" target=\"_parent\"><img src=\"https://colab.research.google.com/assets/colab-badge.svg\" alt=\"Open In Colab\"/></a>"
      ]
    },
    {
      "cell_type": "markdown",
      "source": [
        "# Light Dependent Resistor\n",
        "\n",
        "A Light Dependent Resistor (LDR) is a semiconductor that changes its electrical resistance when exposed to light. It is also called as a photoresistor and photocell. Figure below shows a photoresistor as one leg of a voltage divider circuit.\n",
        "\n",
        "<img src=\"https://github.com/vkjadon/arduino/blob/master/images/ldr_1.png?raw=1\" align=\"center\" width=\"100px;\">\n",
        "\n",
        "Its applications include smoke detection, automatic lighting control, batch counting and burglar alarm systems.  \n",
        "\n",
        "It is not uncommon for the values of resistance of an LDR or photoresistor to be several megohms in darkness and then to fall to a few hundred ohms in bright light. The sensitivity of light dependent resistors or photoresistors also varies with the wavelength of the incident light.\n",
        "\n",
        "The LDR symbol used in electronic circuits is based around the resistor circuit symbol, but shows the light, in the form of arrows shining on it.\n",
        "\n",
        "\n",
        "<img src=\"https://github.com/vkjadon/arduino/blob/master/images/ldr_symbol_1.png?raw=1\" width=\"200px;\">\n",
        "\n",
        "\n",
        "As the light falls on the LDR (semiconductor), the light photons are absorbed and transfer partial energy to the electrons which sufficient to break free the electrons to conduct electricity. This results in a lowering of the resistance of the semiconductor and hence the overall LDR resistance. More light free more electrons and the resistance falls further.\n",
        "\n",
        "The materials used for photoresistors are semiconductors and include materials such as CdSe, CdS, CdTe, InSb, InP, PbS, PbSe, Ge, Is, GaAs. Each material gives different properties in terms of the wavelength of sensitivity, etc.\n",
        "\n",
        "\n",
        "![image](https://github.com/vkjadon/arduino/blob/master/images/ldr_circuit_2.svg?raw=1)  \n",
        "\n"
      ],
      "metadata": {
        "id": "i8Qap9Pl1why"
      }
    }
  ]
}